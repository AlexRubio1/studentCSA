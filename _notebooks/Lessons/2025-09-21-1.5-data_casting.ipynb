{
 "cells": [
  {
   "cell_type": "raw",
   "metadata": {},
   "source": [
    "---\n",
    "title: Homework for Casting and Range of Variables\n",
    "comments: true\n",
    "layout: post\n",
    "description: homework\n",
    "author: Alex\n",
    "---"
   ]
  },
  {
   "cell_type": "markdown",
   "metadata": {},
   "source": [
    "### Python helper: simulate Java 32‑bit `int`\n",
    "\n",
    "The following Python utilities mimic Java's 32‑bit signed `int` arithmetic so you can experiment inside this notebook.\n",
    "\n",
    "## not part of homework/hacks just for my knowledge"
   ]
  },
  {
   "cell_type": "code",
   "execution_count": null,
   "metadata": {},
   "outputs": [],
   "source": [
    "\n",
    "# Utilities to simulate Java 32-bit signed int in Python\n",
    "INT_MIN = -2**31\n",
    "INT_MAX =  2**31 - 1\n",
    "MASK32  =  0xFFFFFFFF\n",
    "\n",
    "def to_int32(x: int) -> int:\n",
    "    x &= MASK32\n",
    "    # convert to signed\n",
    "    return x if x <= INT_MAX else x - (1 << 32)\n",
    "\n",
    "def add_int32(a: int, b: int) -> int:\n",
    "    return to_int32(a + b)\n",
    "\n",
    "def sub_int32(a: int, b: int) -> int:\n",
    "    return to_int32(a - b)\n",
    "\n",
    "def mul_int32(a: int, b: int) -> int:\n",
    "    return to_int32(a * b)\n",
    "\n",
    "def div_int32(a: int, b: int) -> int:\n",
    "    # Java int division truncates toward zero\n",
    "    if b == 0:\n",
    "        raise ZeroDivisionError(\"division by zero\")\n",
    "    q = int(a / b)  # Python truncates toward zero for int()\n",
    "    return to_int32(q)\n",
    "\n",
    "def mod_int32(a: int, b: int) -> int:\n",
    "    # Java remainder has same sign as dividend (a)\n",
    "    if b == 0:\n",
    "        raise ZeroDivisionError(\"mod by zero\")\n",
    "    q = div_int32(a, b)\n",
    "    r = to_int32(a - q * b)\n",
    "    return r\n",
    "\n",
    "# Demo\n",
    "print(\"INT_MIN, INT_MAX:\", INT_MIN, INT_MAX)\n",
    "print(\"Overflow examples:\")\n",
    "print(\"MAX+1 =\", add_int32(INT_MAX, 1))\n",
    "print(\"MIN-1 =\", sub_int32(INT_MIN, 1))\n",
    "print(\"(-7)/2  =\", div_int32(-7, 2), \"  (-7)%2 =\", mod_int32(-7, 2))\n",
    "print(\"(7)/-2  =\", div_int32(7, -2), \"  (7)%-2 =\", mod_int32(7, -2))\n"
   ]
  },
  {
   "cell_type": "markdown",
   "metadata": {},
   "source": [
    "## Practice: predict the output (Java)\n",
    "\n",
    "Write your answers, then check against the key below.\n",
    "\n",
    "**Q1** B"
   ]
  },
  {
   "cell_type": "code",
   "execution_count": null,
   "metadata": {
    "vscode": {
     "languageId": "java"
    }
   },
   "outputs": [],
   "source": [
    "int a = 10, b = 4;\n",
    "System.out.println(a / b);\n",
    "System.out.println(a % b);\n",
    "System.out.println((double)(a / b));\n",
    "System.out.println((double)a / b);"
   ]
  }
 ],
 "metadata": {
  "language_info": {
   "name": "python"
  }
 },
 "nbformat": 4,
 "nbformat_minor": 2
}

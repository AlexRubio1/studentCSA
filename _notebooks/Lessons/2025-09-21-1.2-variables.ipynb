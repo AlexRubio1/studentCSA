{
 "cells": [
  {
   "cell_type": "raw",
   "metadata": {},
   "source": [
    "---\n",
    "title: Homework for Variables and Data Types\n",
    "comments: true\n",
    "layout: post\n",
    "description: homework\n",
    "author: Alex\n",
    "---"
   ]
  },
  {
   "cell_type": "markdown",
   "metadata": {},
   "source": [
    "---\n",
    "\n",
    "## 🍿 [Popcorn Hack] Practice #1: Your Favorite Things\n",
    "\n",
    "**Make variables for your favorite things:**\n",
    "\n",
    "1. Your favorite food (text)\n",
    "2. Your age (whole number)\n",
    "3. Your height in feet (decimal)\n",
    "4. Do you like pizza? (True/False)\n",
    "5. First letter of your favorite color\n",
    "6. Your birth year (this never changes... what type of variable will you make it??)\n",
    "\n",
    "Answer is below:"
   ]
  },
  {
   "cell_type": "code",
   "execution_count": 3,
   "metadata": {},
   "outputs": [
    {
     "name": "stdout",
     "output_type": "stream",
     "text": [
      "Favorite food: Sushi\n",
      "Age: 16\n",
      "Height: 5.7 feet\n",
      "Likes pizza: true\n",
      "Favorite color starts with: B\n",
      "Born in: 2009\n"
     ]
    }
   ],
   "source": [
    "public class MyFavoriteThings {\n",
    "    public static void main(String[] args) {\n",
    "        // 1. Favorite food (text)\n",
    "        String favoriteFood = \"Sushi\";\n",
    "\n",
    "        // 2. Age (whole number)\n",
    "        int age = 16;\n",
    "\n",
    "        // 3. Height in feet (decimal)\n",
    "        double heightInFeet = 5.9;\n",
    "\n",
    "        // 4. Do you like pizza? (true/false)\n",
    "        boolean likesPizza = true;\n",
    "\n",
    "        // 5. First letter of favorite color\n",
    "        char favoriteColorInitial = 'B';  // e.g., Blue\n",
    "\n",
    "        // 6. Birth year (never changes, constant)\n",
    "        final int BIRTH_YEAR = 2009;\n",
    "\n",
    "        // Print all values\n",
    "        System.out.println(\"Favorite food: \" + favoriteFood);\n",
    "        System.out.println(\"Age: \" + age);\n",
    "        System.out.println(\"Height: \" + heightInFeet + \" feet\");\n",
    "        System.out.println(\"Likes pizza: \" + likesPizza);\n",
    "        System.out.println(\"Favorite color starts with: \" + favoriteColorInitial);\n",
    "        System.out.println(\"Born in: \" + BIRTH_YEAR);\n",
    "    }\n",
    "}\n",
    "\n",
    "MyFavoriteThings.main(null);"
   ]
  },
  {
   "cell_type": "markdown",
   "metadata": {},
   "source": [
    "---\n",
    "\n",
    "## 🍿 [Popcorn Hack] Practice #2: Pick the Best Type\n",
    "\n",
    "**What type should you use for each of these?**\n",
    "\n",
    "1. Number of siblings\n",
    "2. Your first name\n",
    "3. Are you hungry?\n",
    "4. Your favorite letter\n",
    "5. Your height in inches\n",
    "6. Number of days in a year (never changes)\n",
    "\n",
    "**Think about it, then check below!**"
   ]
  },
  {
   "cell_type": "code",
   "execution_count": 5,
   "metadata": {},
   "outputs": [
    {
     "name": "stdout",
     "output_type": "stream",
     "text": [
      "Favorite food: Sushi\n",
      "Age: 16\n",
      "Height: 5.7 feet\n",
      "Likes pizza: true\n",
      "Favorite color starts with: B\n",
      "Born in: 2009\n"
     ]
    }
   ],
   "source": [
    "// Practice #2 - Pick the Best Type\n",
    "public class PickTheType {\n",
    "    public static void main(String[] args) {\n",
    "        // 1. Number of siblings → int\n",
    "        int numSiblings = 2;\n",
    "        \n",
    "        // 2. Your first name → String\n",
    "        String firstName = \"Alex\";\n",
    "        \n",
    "        // 3. Are you hungry? → boolean\n",
    "        boolean isHungry = true;\n",
    "        \n",
    "        // 4. Your favorite letter → char\n",
    "        char favoriteLetter = 'A';\n",
    "        \n",
    "        // 5. Your height in inches → double\n",
    "        double heightInches = 65.5;\n",
    "        \n",
    "        // 6. Number of days in a year → final int (constant)\n",
    "        final int DAYS_IN_YEAR = 365;\n",
    "        \n",
    "        // Print all values\n",
    "        System.out.println(\"Number of siblings: \" + numSiblings);\n",
    "        System.out.println(\"First name: \" + firstName);\n",
    "        System.out.println(\"Are you hungry?: \" + isHungry);\n",
    "        System.out.println(\"Favorite letter: \" + favoriteLetter);\n",
    "        System.out.println(\"Height in inches: \" + heightInches);\n",
    "        System.out.println(\"Days in a year: \" + DAYS_IN_YEAR);\n",
    "    }\n",
    "}\n",
    "\n",
    "MyFavoriteThings.main(null);"
   ]
  },
  {
   "cell_type": "markdown",
   "metadata": {},
   "source": [
    "---\n",
    "\n",
    "## 🏠 Homework Hack: Simple Grade Calculator\n",
    "\n",
    "**Make a program that calculates a student's grade:**\n",
    "\n",
    "### What you need to store:\n",
    "1. Student's name (make this final)\n",
    "2. Three test scores (whole numbers 0-100)\n",
    "4. The class name (make this final)\n",
    "\n",
    "### What to calculate:\n",
    "- Average of the three test scores\n",
    "- Show what letter grade they earned"
   ]
  },
  {
   "cell_type": "code",
   "execution_count": null,
   "metadata": {},
   "outputs": [],
   "source": [
    "public class GradeCalculator {\n",
    "    public static void main(String[] args) {\n",
    "        final String STUDENT_NAME = \"Alex\";\n",
    "        final String CLASS_NAME = \"Math 101\";\n",
    "\n",
    "        int score1 = 88;\n",
    "        int score2 = 92;\n",
    "        int score3 = 79;\n",
    "\n",
    "        double average = (score1 + score2 + score3) / 3.0;\n",
    "\n",
    "        String letterGrade;\n",
    "        if (average >= 90) {\n",
    "            letterGrade = \"A\";\n",
    "        } else if (average >= 80) {\n",
    "            letterGrade = \"B\";\n",
    "        } else if (average >= 70) {\n",
    "            letterGrade = \"C\";\n",
    "        } else if (average >= 60) {\n",
    "            letterGrade = \"D\";\n",
    "        } else {\n",
    "            letterGrade = \"F\";\n",
    "        }\n",
    "        System.out.println(\"Student: \" + STUDENT_NAME);\n",
    "        System.out.println(\"Class: \" + CLASS_NAME);\n",
    "        System.out.println(\"Scores: \" + score1 + \", \" + score2 + \", \" + score3);\n",
    "        System.out.println(\"Average: \" + average);\n",
    "        System.out.println(\"Letter Grade: \" + letterGrade);\n",
    "    }\n",
    "}\n",
    "\n",
    "MyFavoriteThings.main(null);"
   ]
  }
 ],
 "metadata": {
  "kernelspec": {
   "display_name": "java (JJava/j!)",
   "language": "java",
   "name": "jbang-jjava"
  },
  "language_info": {
   "codemirror_mode": "java",
   "file_extension": ".jshell",
   "mimetype": "text/x-java-source",
   "name": "java",
   "pygments_lexer": "java",
   "version": "25"
  }
 },
 "nbformat": 4,
 "nbformat_minor": 2
}

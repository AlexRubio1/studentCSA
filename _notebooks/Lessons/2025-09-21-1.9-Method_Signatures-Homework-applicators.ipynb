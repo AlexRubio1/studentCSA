{
  "cells": [
    {
      "cell_type": "markdown",
      "metadata": {},
      "source": [
        "---\n",
        "layout: post\n",
        "toc: true\n",
        "title: Method Signatures — Homework (1.9)\n",
        "permalink: /csa/unit_01/1_9_hw\n",
        "author: Aashray, Sai, Manas\n",
        "---\n"
      ]
    },
    {
      "cell_type": "markdown",
      "metadata": {},
      "source": [
        "## AP CSA 1.9 — Method Signatures: Homework\n",
        "\n",
        "Complete all parts. Submit this executed notebook on GitHub Pages and answer MCQs on the Google Form.\n"
      ]
    },
    {
      "cell_type": "markdown",
      "metadata": {},
      "source": [
        "### MCQs\n",
        "1) Which pair is a valid overload?\n",
        "- A) `int f(int a)` and `int f(int x)`\n",
        "- B) `int f(int a)` and `double f(int a)`\n",
        "- C) `int f(int a)` and `double f(double a)`\n",
        "- D) `int f(int a, int b)` and `int f(int a, int b)`\n",
        "\n",
        "2) Which is the AP CSA notion of a method signature?\n",
        "- A) `public static int max(int a, int b)`\n",
        "- B) `max(int, int)`\n",
        "- C) `max(int a, int b) throws Exception`\n",
        "- D) `max(int, double)`\n",
        "\n",
        "3) With the overloads `void p(int x)` and `void p(double x)`, what prints?\n",
        "```java\n",
        "p(5);\n",
        "p(5.0);\n",
        "```\n",
        "- A) `int`, `double`\n",
        "- B) `double`, `double`\n",
        "- C) `int`, `int`\n",
        "- D) Compile error\n",
        "\n",
        "4) Which call is ambiguous with only these two methods?\n",
        "```java\n",
        "void h(long x) {}\n",
        "void h(float x) {}\n",
        "```\n",
        "- A) `h(5)`\n",
        "- B) `h(5.0)`\n",
        "- C) `h(5f)`\n",
        "- D) None are ambiguous\n",
        "\n",
        "5) Which statement is TRUE?\n",
        "- A) Parameter names affect the method signature.\n",
        "- B) Return type affects the method signature.\n",
        "- C) Access modifiers affect the method signature.\n",
        "- D) Overloading requires different parameter lists.\n"
      ]
    },
    {
      "cell_type": "markdown",
      "metadata": {},
      "source": [
        "### Short answer\n",
        "- Explain why `int sum(int a, int b)` and `double sum(int a, int b)` cannot both exist.\n",
        "- In one sentence, distinguish parameters vs arguments.\n"
      ]
    },
    {
      "cell_type": "markdown",
      "metadata": {},
      "source": [
        "> They cannot both exist because they have the same parameter types (int a and int b), so the compiler can’t tell which one to use.\n",
        "\n",
        "> Parameters are variables defined in a method signature to recieve input and arguments are the actual values that are passed."
      ]
    },
    {
      "cell_type": "markdown",
      "metadata": {},
      "source": [
        "### Coding Tasks (write Java in code blocks; pseudo-Java acceptable)\n",
        "1) Write three overloads of `abs`: `int abs(int x)`, `double abs(double x)`, and `long abs(long x)`.\n",
        "2) Implement two overloads of `concat`:\n",
        "   - `String concat(String a, String b)` returns concatenation.\n",
        "   - `String concat(String a, int n)` returns `a` repeated `n` times.\n",
        "3) Determine output:\n",
        "```java\n",
        "static void show(int x) { System.out.println(\"int\"); }\n",
        "static void show(double x) { System.out.println(\"double\"); }\n",
        "static void show(long x) { System.out.println(\"long\"); }\n",
        "\n",
        "show(7);\n",
        "show(7L);\n",
        "show(7.0);\n",
        "```\n",
        "Write the expected output and a one-line explanation for each.\n"
      ]
    },
    {
      "cell_type": "code",
      "execution_count": 1,
      "metadata": {
        "vscode": {
          "languageId": "java"
        }
      },
      "outputs": [
        {
          "name": "stdout",
          "output_type": "stream",
          "text": [
            "5\n",
            "3.14\n",
            "123456789\n"
          ]
        }
      ],
      "source": [
        "// 1\n",
        "class Calculator {\n",
        "    public int abs(int number) {\n",
        "        return number < 0 ? -number : number;\n",
        "    }\n",
        "    public double abs(double number) {\n",
        "        return number < 0 ? -number : number;\n",
        "    }\n",
        "    public long abs(long number) {\n",
        "        return number < 0 ? -number : number;\n",
        "    }\n",
        "\n",
        "    public static void main(String[] args) {\n",
        "        Calculator calc = new Calculator();\n",
        "        System.out.println(calc.abs(-5));      // 5\n",
        "        System.out.println(calc.abs(-3.14));   // 3.14\n",
        "        System.out.println(calc.abs(-123456789L)); // 123456789\n",
        "    }\n",
        "}\n",
        "\n",
        "Calculator.main(null);"
      ]
    },
    {
      "cell_type": "code",
      "execution_count": null,
      "metadata": {
        "vscode": {
          "languageId": "java"
        }
      },
      "outputs": [
        {
          "name": "stdout",
          "output_type": "stream",
          "text": [
            "Hello, World!\n",
            "HiHiHi\n"
          ]
        }
      ],
      "source": [
        "// 2\n",
        "class Concatonator {\n",
        "    public String concat(String a, String b) {\n",
        "        return a + b;\n",
        "    }\n",
        "    public String concat(String a, int n) {\n",
        "        String result = \"\";\n",
        "        for (int i = 0; i < n; i++) {\n",
        "            result += a;\n",
        "        }\n",
        "        return result;\n",
        "    }\n",
        "    \n",
        "    public static void main(String[] args) {\n",
        "        Concatonator con = new Concatonator();\n",
        "        System.out.println(con.concat(\"Hello, \", \"World!\")); // Hello, World!\n",
        "        System.out.println(con.concat(\"Hi\", 3));              // HiHiHiHi\n",
        "    }\n",
        "}\n",
        "\n",
        "Concatonator.main(null);"
      ]
    },
    {
      "cell_type": "markdown",
      "metadata": {
        "vscode": {
          "languageId": "java"
        }
      },
      "source": [
        "```\n",
        "// 3\n",
        "\n",
        "show(7); -> int\n",
        "show(7L); -> long\n",
        "show(7.0); -> double\n",
        "```"
      ]
    },
    {
      "cell_type": "markdown",
      "metadata": {},
      "source": [
        "### FRQ-style\n",
        "- FRQ 1. `indexOf(char target, String s)`: return the index of first `target` in `s` or `-1` if not found. Overload with `indexOf(String target, String s)` for first substring occurrence (without using library indexOf). State assumptions and constraints.\n",
        "- FRQ 2. Overload `clamp`:\n",
        "  - `int clamp(int value,x int low, int high)` returns `value` confined to `[low, high]`.\n",
        "  - `double clamp(double value, double low, double high)` similarly for doubles.\n",
        "  Handle the case `low > high` by swapping.\n"
      ]
    },
    {
      "cell_type": "code",
      "execution_count": 8,
      "metadata": {
        "vscode": {
          "languageId": "java"
        }
      },
      "outputs": [
        {
          "name": "stdout",
          "output_type": "stream",
          "text": [
            "1\n",
            "1\n",
            "-1\n",
            "---\n",
            "5\n",
            "1\n",
            "10\n",
            "7.5\n"
          ]
        }
      ],
      "source": [
        "public class FRQ1 {\n",
        "\n",
        "    // Returns index of first occurrence of target char in s, or -1 if not found\n",
        "    public static int indexOf(char target, String s) {\n",
        "        if (s == null) return -1; // constraint: s is not null\n",
        "        for (int i = 0; i < s.length(); i++) {\n",
        "            if (s.charAt(i) == target) return i;\n",
        "        }\n",
        "        return -1;\n",
        "    }\n",
        "\n",
        "    // Returns index of first occurrence of target substring in s, or -1 if not found\n",
        "    public static int indexOf(String target, String s) {\n",
        "        if (s == null || target == null) return -1; // constraints\n",
        "        int sLen = s.length();\n",
        "        int tLen = target.length();\n",
        "\n",
        "        if (tLen == 0) return 0; // empty string occurs at start\n",
        "\n",
        "        for (int i = 0; i <= sLen - tLen; i++) {\n",
        "            boolean match = true;\n",
        "            for (int j = 0; j < tLen; j++) {\n",
        "                if (s.charAt(i + j) != target.charAt(j)) {\n",
        "                    match = false;\n",
        "                    break;\n",
        "                }\n",
        "            }\n",
        "            if (match) return i;\n",
        "        }\n",
        "        return -1;\n",
        "    }\n",
        "\n",
        "    public static void main(String[] args) {\n",
        "        System.out.println(indexOf('a', \"banana\"));      // 1\n",
        "        System.out.println(indexOf(\"ana\", \"banana\"));    // 1\n",
        "        System.out.println(indexOf(\"xyz\", \"banana\"));    // -1\n",
        "    }\n",
        "}\n",
        "\n",
        "public class FRQ2 {\n",
        "\n",
        "    // Clamp integer value to [low, high]\n",
        "    public static int clamp(int value, int low, int high) {\n",
        "        if (low > high) { // swap if bounds are reversed\n",
        "            int temp = low;\n",
        "            low = high;\n",
        "            high = temp;\n",
        "        }\n",
        "        if (value < low) return low;\n",
        "        if (value > high) return high;\n",
        "        return value;\n",
        "    }\n",
        "\n",
        "    // Clamp double value to [low, high]\n",
        "    public static double clamp(double value, double low, double high) {\n",
        "        if (low > high) { // swap if bounds are reversed\n",
        "            double temp = low;\n",
        "            low = high;\n",
        "            high = temp;\n",
        "        }\n",
        "        if (value < low) return low;\n",
        "        if (value > high) return high;\n",
        "        return value;\n",
        "    }\n",
        "\n",
        "    public static void main(String[] args) {\n",
        "        System.out.println(clamp(5, 1, 10));    // 5\n",
        "        System.out.println(clamp(0, 1, 10));    // 1\n",
        "        System.out.println(clamp(15, 1, 10));   // 10\n",
        "        System.out.println(clamp(7.5, 10.0, 5.0)); // 7.5, bounds swapped\n",
        "    }\n",
        "}\n",
        "\n",
        "FRQ1.main(null);\n",
        "System.out.println(\"---\");\n",
        "FRQ2.main(null);"
      ]
    },
    {
      "cell_type": "markdown",
      "metadata": {},
      "source": [
        "### Submission checklist\n",
        "- MCQs completed on the Google Form.\n",
        "- This notebook executes top-to-bottom with outputs visible.\n",
        "- Answers are clear and concise.\n"
      ]
    }
  ],
  "metadata": {
    "kernelspec": {
      "display_name": "java (JJava/j!)",
      "language": "java",
      "name": "jbang-jjava"
    },
    "language_info": {
      "codemirror_mode": "java",
      "file_extension": ".jshell",
      "mimetype": "text/x-java-source",
      "name": "Java",
      "pygments_lexer": "java",
      "version": "17.0.16+0"
    }
  },
  "nbformat": 4,
  "nbformat_minor": 2
}

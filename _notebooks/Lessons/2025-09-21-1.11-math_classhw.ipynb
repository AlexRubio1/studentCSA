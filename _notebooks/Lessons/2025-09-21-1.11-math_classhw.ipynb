{
 "cells": [
  {
   "cell_type": "markdown",
   "id": "985dbac9",
   "metadata": {},
   "source": [
    "---\n",
    "title: Homework for mathclass\n",
    "comments: true\n",
    "layout: post\n",
    "description: homework\n",
    "author: Alex\n",
    "---"
   ]
  },
  {
   "cell_type": "markdown",
   "id": "25cb951c",
   "metadata": {},
   "source": [
    "## Homework Checklist\n",
    "- 2 Popcorn Hacks\n",
    "- MCQ\n",
    "- Homework Hack"
   ]
  },
  {
   "cell_type": "code",
   "execution_count": null,
   "id": "99cb0432",
   "metadata": {
    "vscode": {
     "languageId": "java"
    }
   },
   "outputs": [],
   "source": [
    "int n = (int) Math.pow(2, 3.0 / 2);\n",
    "System.out.println(n);"
   ]
  },
  {
   "cell_type": "markdown",
   "id": "4567a280",
   "metadata": {},
   "source": [
    "What is printed?\n",
    "\n",
    "A. 2\n",
    "B. 3\n",
    "C. 4\n",
    "D. It does not compile"
   ]
  },
  {
   "cell_type": "code",
   "execution_count": null,
   "id": "b49bc34c",
   "metadata": {
    "vscode": {
     "languageId": "java"
    }
   },
   "outputs": [],
   "source": [
    "int r = (int) (Math.random() * 6) + 5;"
   ]
  },
  {
   "cell_type": "markdown",
   "id": "4ae4b0ed",
   "metadata": {},
   "source": [
    "Which statement best describes the values produced by:\n",
    "A. An int from 5 to 10, inclusive\n",
    "B. An int from 5 to 11, inclusive\n",
    "C. An int from 6 to 10, inclusive\n",
    "D. An int from 6 to 11, inclusive"
   ]
  },
  {
   "cell_type": "code",
   "execution_count": null,
   "id": "a75c1ce2",
   "metadata": {
    "vscode": {
     "languageId": "java"
    }
   },
   "outputs": [],
   "source": [
    "long a = Math.round(-3.5);\n",
    "double b = Math.floor(-3.1);\n",
    "double c = Math.ceil(-3.1);\n",
    "int x = (int) a + (int) b + (int) c;\n"
   ]
  },
  {
   "cell_type": "markdown",
   "id": "3c8f86a8",
   "metadata": {},
   "source": [
    "What is the value of x after executing:\n",
    "A. -10\n",
    "B. -9\n",
    "C. -8\n",
    "D. -7"
   ]
  },
  {
   "cell_type": "markdown",
   "id": "72eb9a30",
   "metadata": {
    "vscode": {
     "languageId": "java"
    }
   },
   "source": [
    "Which expression correctly computes the Euclidean distance between points (x1, y1) and (x2, y2)?\n",
    "A.\n",
    "\n",
    "Math.sqrt(Math.pow(x2 - x1, 2) + Math.pow(y2 - y1, 2))\n",
    "\n",
    "\n",
    "B.\n",
    "\n",
    "Math.pow((x2 - x1) + (y2 - y1), 2)\n",
    "\n",
    "\n",
    "C.\n",
    "\n",
    "Math.abs((x2 - x1) + (y2 - y1))\n",
    "\n",
    "\n",
    "D.\n",
    "\n",
    "Math.sqrt(Math.pow(x2 + x1, 2) + Math.pow(y2 + y1, 2))"
   ]
  },
  {
   "cell_type": "code",
   "execution_count": null,
   "id": "36ced226",
   "metadata": {
    "vscode": {
     "languageId": "java"
    }
   },
   "outputs": [],
   "source": [
    "int a = (int) Math.sqrt(26);\n",
    "int b = (int) Math.sqrt(26);\n",
    "System.out.println(a * b);\n"
   ]
  },
  {
   "cell_type": "markdown",
   "id": "cc73b5d5",
   "metadata": {},
   "source": [
    "What is printed?\n",
    "A. 5\n",
    "B. 25\n",
    "C. 26\n",
    "D. 27"
   ]
  },
  {
   "cell_type": "markdown",
   "id": "f8ed5a34",
   "metadata": {},
   "source": [
    "## Homework Hack: Game Stats Calculator\n",
    "\n",
    "You're creating a simple game and need to write methods to handle player statistics. Complete the following methods using Math class methods you learned in the lesson.\n",
    "\n",
    "### Part A: Health Difference Calculator\n",
    "\n",
    "Write a method that calculates the absolute difference between two players' health values.\n",
    "\n",
    "**Method signature:**\n",
    "```java\n",
    "public static int healthDifference(int player1Health, int player2Health)\n",
    "```\n",
    "\n",
    "**Requirements:**\n",
    "- Use `Math.abs()` to ensure the result is always positive\n",
    "- Return the absolute difference between the two health values\n",
    "\n",
    "**Examples:**\n",
    "- `healthDifference(75, 120)` → `45`\n",
    "- `healthDifference(100, 80)` → `20`\n",
    "- `healthDifference(50, 50)` → `0`\n",
    "\n",
    "### Part B: Attack Damage Calculator\n",
    "\n",
    "Write a method that calculates attack damage using a base damage and a power multiplier.\n",
    "\n",
    "**Method signature:**\n",
    "```java\n",
    "public static double calculateDamage(double baseDamage, double powerLevel)\n",
    "```\n",
    "\n",
    "**Requirements:**\n",
    "- Use `Math.pow()` to calculate: `baseDamage * (1.5 ^ powerLevel)`\n",
    "- Return the total damage as a double\n",
    "\n",
    "**Examples:**\n",
    "- `calculateDamage(10.0, 2)` → `22.5`\n",
    "- `calculateDamage(15.0, 3)` → `50.625`\n",
    "\n",
    "### Part C: Distance Detector\n",
    "\n",
    "Write a method that calculates the distance between a player and an enemy using the distance formula.\n",
    "\n",
    "**Method signature:**\n",
    "```java\n",
    "public static double findDistance(int playerX, int playerY, int enemyX, int enemyY)\n",
    "```\n",
    "\n",
    "**Requirements:**\n",
    "- Use the distance formula: √((x2-x1)² + (y2-y1)²)\n",
    "- Use `Math.pow()` for squaring\n",
    "- Use `Math.sqrt()` for the square root\n",
    "\n",
    "**Examples:**\n",
    "- `findDistance(0, 0, 3, 4)` → `5.0`\n",
    "- `findDistance(1, 1, 4, 5)` → `5.0`\n",
    "\n",
    "### Part D: Random Loot Generator\n",
    "\n",
    "Write a method that generates a random loot value within a specific range.\n",
    "\n",
    "**Method signature:**\n",
    "```java\n",
    "public static int generateLoot(int minValue, int maxValue)\n",
    "```\n",
    "\n",
    "**Requirements:**\n",
    "- Use `Math.random()` and the formula from the lesson\n",
    "- Return a random integer from minValue to maxValue (inclusive)\n",
    "- Formula: `(int)(Math.random() * (max - min + 1)) + min`\n",
    "\n",
    "**Examples:**\n",
    "- `generateLoot(10, 50)` → random number from 10 to 50\n",
    "- `generateLoot(100, 100)` → `100`\n",
    "- `generateLoot(1, 6)` → random number from 1 to 6 (like a dice roll)\n"
   ]
  },
  {
   "cell_type": "markdown",
   "id": "ce351acd",
   "metadata": {},
   "source": [
    "### Hints to Help You:\n",
    "\n",
    "**For Part A (Health Difference):**\n",
    "- Remember: `Math.abs()` makes any negative number positive\n",
    "- Just subtract the two health values and use `Math.abs()` on the result\n",
    "\n",
    "**For Part B (Attack Damage):**\n",
    "- Remember: `Math.pow(base, exponent)` calculates base^exponent\n",
    "- The formula is: baseDamage × (1.5)^powerLevel\n",
    "- Don't forget `Math.pow()` returns a double\n",
    "\n",
    "**For Part C (Distance):**\n",
    "- Use the Pythagorean theorem: distance = √((x2-x1)² + (y2-y1)²)\n",
    "- Square the differences using `Math.pow(difference, 2)`\n",
    "- Then use `Math.sqrt()` on the sum\n",
    "\n",
    "**For Part D (Random Loot):**\n",
    "- Use the exact formula from the lesson: `(int)(Math.random() * (max - min + 1)) + min`\n",
    "- Make sure to include the `+1` to make the max inclusive!\n",
    "\n",
    "---\n",
    "\n",
    "## homework"
   ]
  },
  {
   "cell_type": "code",
   "execution_count": 7,
   "metadata": {
    "vscode": {
     "languageId": "java"
    }
   },
   "outputs": [],
   "source": [
    "// YOUR CODE HERE for Popcorn Hack #2\n",
    "\n",
    "public class GameStats {\n",
    "\n",
    "    // Part A: Health Difference Calculator\n",
    "    public static int healthDifference(int player1Health, int player2Health) {\n",
    "        return Math.abs(player1Health - player2Health);\n",
    "    }\n",
    "\n",
    "    // Part B: Attack Damage Calculator\n",
    "    public static double calculateDamage(double baseDamage, double powerLevel) {\n",
    "        return baseDamage * Math.pow(1.5, powerLevel);\n",
    "    }\n",
    "\n",
    "    // Part C: Distance Detector\n",
    "    public static double findDistance(int playerX, int playerY, int enemyX, int enemyY) {\n",
    "        return Math.sqrt(Math.pow(enemyX - playerX, 2) + Math.pow(enemyY - playerY, 2));\n",
    "    }\n",
    "\n",
    "    // Part D: Random Loot Generator\n",
    "    public static int generateLoot(int minValue, int maxValue) {\n",
    "        return (int)(Math.random() * (maxValue - minValue + 1)) + minValue;\n",
    "    }\n",
    "\n",
    "    public static void main(String[] args) {\n",
    "        // Part A examples\n",
    "        int health1 = healthDifference(75, 120); // 45\n",
    "        int health2 = healthDifference(100, 80); // 20\n",
    "        int health3 = healthDifference(50, 50); // 0\n",
    "\n",
    "        // Part B examples\n",
    "        double damage1 = calculateDamage(10.0, 2); // 22.5\n",
    "        double damage2 = calculateDamage(15.0, 3); // 50.625\n",
    "\n",
    "        // Part C examples\n",
    "        double distance1 = findDistance(0, 0, 3, 4); // 5.0\n",
    "        double distance2 = findDistance(1, 1, 4, 5); // 5.0\n",
    "\n",
    "        // Part D examples\n",
    "        int loot1 = generateLoot(10, 50);\n",
    "        int loot2 = generateLoot(1, 6);\n",
    "        int loot3 = generateLoot(100, 100); // always 100\n",
    "\n",
    "        // Print all results at the bottom\n",
    "        System.out.println(\"Part A: Health Differences\");\n",
    "        System.out.println(\"75 vs 120: \" + health1);\n",
    "        System.out.println(\"100 vs 80: \" + health2);\n",
    "        System.out.println(\"50 vs 50: \" + health3);\n",
    "\n",
    "        System.out.println(\"\\nPart B: Attack Damage\");\n",
    "        System.out.println(\"Base 10.0, Power 2: \" + damage1);\n",
    "        System.out.println(\"Base 15.0, Power 3: \" + damage2);\n",
    "\n",
    "        System.out.println(\"\\nPart C: Distances\");\n",
    "        System.out.println(\"(0,0) to (3,4): \" + distance1);\n",
    "        System.out.println(\"(1,1) to (4,5): \" + distance2);\n",
    "\n",
    "        System.out.println(\"\\nPart D: Random Loot\");\n",
    "        System.out.println(\"Loot 1 (10-50): \" + loot1);\n",
    "        System.out.println(\"Loot 2 (1-6): \" + loot2);\n",
    "        System.out.println(\"Loot 3 (100-100): \" + loot3);\n",
    "    }\n",
    "}\n",
    "\n",
    "// Run the main method\n",
    "GameStats.main(null);"
   ]
  },
  {
   "cell_type": "code",
   "execution_count": 5,
   "metadata": {
    "vscode": {
     "languageId": "java"
    }
   },
   "outputs": [
    {
     "name": "stdout",
     "output_type": "stream",
     "text": [
      "Level: 10\n",
      "Base Power: 100.0\n",
      "Final Power: 619.17 (approximately)\n"
     ]
    },
    {
     "data": {
      "text/plain": [
       "java.io.PrintStream@60157977"
      ]
     },
     "execution_count": 5,
     "metadata": {},
     "output_type": "execute_result"
    }
   ],
   "source": [
    "// YOUR CODE HERE for Popcorn Hack #1\n",
    "\n",
    "double basePower = 100;\n",
    "int level = 10; // you can change or input this later if needed\n",
    "double finalPower = basePower * Math.pow(1.2, level);\n",
    "\n",
    "System.out.println(\"Level: \" + level);\n",
    "System.out.println(\"Base Power: \" + basePower);\n",
    "System.out.printf(\"Final Power: %.2f (approximately)%n\", finalPower);"
   ]
  },
  {
   "cell_type": "code",
   "execution_count": 6,
   "metadata": {
    "vscode": {
     "languageId": "java"
    }
   },
   "outputs": [
    {
     "name": "stdout",
     "output_type": "stream",
     "text": [
      "Loot Drop!\n",
      "Rarity Roll: 93\n",
      "You got: LEGENDARY item\n",
      "Gold Value: 75\n"
     ]
    }
   ],
   "source": [
    "// YOUR CODE HERE for Popcorn Hack #2\n",
    "\n",
    "System.out.println(\"Loot Drop!\");\n",
    "\n",
    "// Generate a random rarity roll between 1 and 100\n",
    "int rarityRoll = (int)(Math.random() * 100) + 1;\n",
    "System.out.println(\"Rarity Roll: \" + rarityRoll);\n",
    "\n",
    "String rarity;\n",
    "int goldValue;\n",
    "\n",
    "// Determine rarity and gold range\n",
    "if (rarityRoll <= 60) {\n",
    "    rarity = \"COMMON\";\n",
    "    goldValue = (int)(Math.random() * (30 - 10 + 1)) + 10; // 10–30\n",
    "} else if (rarityRoll <= 85) {\n",
    "    rarity = \"RARE\";\n",
    "    goldValue = (int)(Math.random() * (70 - 31 + 1)) + 31; // 31–70\n",
    "} else {\n",
    "    rarity = \"LEGENDARY\";\n",
    "    goldValue = (int)(Math.random() * (100 - 71 + 1)) + 71; // 71–100\n",
    "}\n",
    "\n",
    "// Print results\n",
    "System.out.println(\"You got: \" + rarity + \" item\");\n",
    "System.out.println(\"Gold Value: \" + goldValue);"
   ]
  }
 ],
 "metadata": {
  "kernelspec": {
   "display_name": "java (JJava/j!)",
   "language": "java",
   "name": "jbang-jjava"
  },
  "language_info": {
   "codemirror_mode": "java",
   "file_extension": ".jshell",
   "mimetype": "text/x-java-source",
   "name": "Java",
   "pygments_lexer": "java",
   "version": "17.0.16+8"
  }
 },
 "nbformat": 4,
 "nbformat_minor": 5
}

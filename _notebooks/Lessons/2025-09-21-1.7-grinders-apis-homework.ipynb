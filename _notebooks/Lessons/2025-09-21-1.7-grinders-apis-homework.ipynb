{
 "cells": [
  {
   "cell_type": "raw",
   "metadata": {},
   "source": [
    "---\n",
    "title: Homework for Application Program Interface (API) and Libraries Homework\n",
    "comments: true\n",
    "layout: post\n",
    "description: homework\n",
    "author: Alex\n",
    "---"
   ]
  },
  {
   "cell_type": "markdown",
   "metadata": {},
   "source": [
    "### [LINK TO POPCORN HACKS]({{site.baseurl}}/csa/unit_01/1_7)"
   ]
  },
  {
   "cell_type": "markdown",
   "metadata": {},
   "source": [
    "---\n",
    "\n",
    "## 📝 Homework Hack: Phone Class\n",
    "\n",
    "Create a `Phone` class that demonstrates **all concepts** from this lesson:\n",
    "- Libraries/Classes\n",
    "- Packages (use ArrayList from java.util)\n",
    "- Attributes\n",
    "- Behaviors\n",
    "\n",
    "### Requirements:\n",
    "\n",
    "**Attributes (4):**\n",
    "- `brand` (String)\n",
    "- `model` (String)\n",
    "- `batteryLevel` (int) - starts at 100\n",
    "- `contacts` (ArrayList<String>)\n",
    "\n",
    "**Behaviors (5 methods):**\n",
    "1. Constructor - sets brand and model, initializes empty contacts list\n",
    "2. `displayInfo()` - prints brand, model, and battery level\n",
    "3. `addContact(String name)` - adds name to contacts list\n",
    "4. `showContacts()` - prints all contacts\n",
    "5. `usePhone(int minutes)` - decreases battery by minutes used\n",
    "\n",
    "**Testing:**\n",
    "- Create 2 Phone objects\n",
    "- Add 3 contacts to each phone\n",
    "- Use phone for some minutes\n",
    "- Display all information\n",
    "\n",
    "### Grading:\n",
    "- Correct attributes (4 points)\n",
    "- Correct methods (5 points)\n",
    "- Proper use of ArrayList from java.util (3 points)\n",
    "- Complete testing (3 points)\n",
    "- **Total: 15 points**"
   ]
  },
  {
   "cell_type": "code",
   "execution_count": 1,
   "metadata": {
    "vscode": {
     "languageId": "java"
    }
   },
   "outputs": [
    {
     "name": "stdout",
     "output_type": "stream",
     "text": [
      "Brand: Apple\n",
      "Model: iPhone 16\n",
      "Battery Level: 70%\n",
      "Contacts: [Ander Dingus, Alex, Travis]\n",
      "Brand: Apple\n",
      "Model: iPhone 17\n",
      "Battery Level: 55%\n",
      "Contacts: [Aranya, Kush, Elliot]\n"
     ]
    }
   ],
   "source": [
    "// Homework Hack: Complete the Phone class\n",
    "\n",
    "import java.util.ArrayList;\n",
    "\n",
    "public class Phone {\n",
    "    // TODO: Add 4 attributes\n",
    "    private String brand;\n",
    "    private String model;\n",
    "    private int batteryLevel;\n",
    "    private ArrayList<String> contacts;\n",
    "    // TODO: Add constructor\n",
    "    public Phone(String brand, String model) {\n",
    "        this.brand = brand;\n",
    "        this.model = model;\n",
    "        this.batteryLevel = 100;\n",
    "        this.contacts = new ArrayList<>();\n",
    "    }\n",
    "    // TODO: Add displayInfo() method\n",
    "    public void displayInfo() {\n",
    "        System.out.println(\"Brand: \" + brand);\n",
    "        System.out.println(\"Model: \" + model);\n",
    "        System.out.println(\"Battery Level: \" + batteryLevel + \"%\");\n",
    "        System.out.println(\"Contacts: \" + contacts);\n",
    "    }\n",
    "    // TODO: Add addContact(String name) method\n",
    "    public void addContact(String name) {\n",
    "        contacts.add(name);\n",
    "    }\n",
    "    // TODO: Add showContacts() method\n",
    "    public void showContacts() {\n",
    "        System.out.println(\"Contacts: \" + contacts);\n",
    "    }\n",
    "    // TODO: Add usePhone(int minutes) method\n",
    "    public void usePhone(int minutes) {\n",
    "        batteryLevel -= minutes;\n",
    "        if (batteryLevel < 0) {\n",
    "            batteryLevel = 0;\n",
    "        }\n",
    "    }\n",
    "}\n",
    "\n",
    "// Test your Phone class\n",
    "public class PhoneTest {\n",
    "    public static void main(String[] args) {\n",
    "        // TODO: Create 2 Phone objects\n",
    "        Phone phone1 = new Phone(\"Apple\", \"iPhone 16\");\n",
    "        Phone phone2 = new Phone(\"Apple\", \"iPhone 17\");\n",
    "        // TODO: Add 3 contacts to each\n",
    "        phone1.addContact(\"Ander Dingus\");\n",
    "        phone1.addContact(\"Alex\");\n",
    "        phone1.addContact(\"Travis\");\n",
    "\n",
    "        phone2.addContact(\"Aranya\");\n",
    "        phone2.addContact(\"Kush\");\n",
    "        phone2.addContact(\"Elliot\");\n",
    "        // TODO: Use phones for some minutes\n",
    "        phone1.usePhone(30);\n",
    "        phone2.usePhone(45);\n",
    "        // TODO: Display all information\n",
    "        phone1.displayInfo();\n",
    "        phone2.displayInfo();\n",
    "    }\n",
    "}\n",
    "\n",
    "PhoneTest.main(null);"
   ]
  }
 ],
 "metadata": {
  "kernelspec": {
   "display_name": "java (JJava/j!)",
   "language": "java",
   "name": "jbang-jjava"
  },
  "language_info": {
   "codemirror_mode": "java",
   "file_extension": ".jshell",
   "mimetype": "text/x-java-source",
   "name": "Java",
   "pygments_lexer": "java",
   "version": "17.0.16+0"
  }
 },
 "nbformat": 4,
 "nbformat_minor": 2
}

{
 "cells": [
  {
   "cell_type": "raw",
   "id": "354709c5",
   "metadata": {
    "vscode": {
     "languageId": "raw"
    }
   },
   "source": [
    "---\n",
    "layout: post\n",
    "toc: true\n",
    "title: Object Creation and Storage (Instantiation)\n",
    "permalink: /csa/unit_01/1_13/homework\n",
    "authors: Nora, Soni, Avika\n",
    "---"
   ]
  },
  {
   "cell_type": "code",
   "execution_count": 2,
   "id": "4fa4bd60",
   "metadata": {},
   "outputs": [
    {
     "name": "stdout",
     "output_type": "stream",
     "text": [
      "Car Brand: Tesla, Year: 2024\n",
      "Car Brand: Toyota, Year: 2007\n"
     ]
    }
   ],
   "source": [
    "// Homework Hack #1: Object Creation Practice\n",
    "\n",
    "public class ObjectCreation {\n",
    "    public static void main(String[] args) {\n",
    "        // 1. Create two Car objects using 'new'\n",
    "        // Example: Car car1 = new Car(\"Tesla\", 2024);\n",
    "        Car car1 = new Car(\"Tesla\", 2024);\n",
    "        Car car2 = new Car(\"Toyota\", 2007);\n",
    "\n",
    "        // 2. Print each car's info\n",
    "        // Example: System.out.println(car1);\n",
    "        System.out.println(car1);\n",
    "        System.out.println(car2);\n",
    "    }\n",
    "}\n",
    "\n",
    "class Car {\n",
    "    // 1. Declare variables: brand, year\n",
    "    String brand;\n",
    "    int year;\n",
    "\n",
    "    // 2. Create a constructor to set those variables\n",
    "    public Car(String brand, int year) {\n",
    "        this.brand = brand;\n",
    "        this.year = year;\n",
    "    }\n",
    "\n",
    "    // 3. Add a method or toString() to display car info\n",
    "    public String toString() {\n",
    "        return \"Car Brand: \" + brand + \", Year: \" + year;\n",
    "    }\n",
    "}\n",
    "\n",
    "ObjectCreation.main(null);\n"
   ]
  },
  {
   "cell_type": "markdown",
   "id": "5dfeb6ec",
   "metadata": {},
   "source": [
    "## Homework Hack #2 — Heap vs Stack Storage Demo\n",
    "\n",
    "**Goal** - Understand where data is stored in memory — stack vs heap.\n",
    "<br>\n",
    "Instructions:\n",
    "- Create a Book class with one variable: String title.\n",
    "- In main(), create:\n",
    "- A primitive variable (e.g. int pages = 300;)\n",
    "- A Book object (e.g. Book b1 = new Book(\"Java Basics\");)\n",
    "- Copy both into new variables (int pagesCopy = pages;, Book b2 = b1;)\n",
    "<br>\n",
    "Change the original values and print everything — watch what changes."
   ]
  },
  {
   "cell_type": "code",
   "execution_count": 4,
   "id": "87b5929f",
   "metadata": {},
   "outputs": [
    {
     "name": "stdout",
     "output_type": "stream",
     "text": [
      "Primitive pages: 100\n",
      "Copied primitive pages: 100\n",
      "Book 1: Book Title: Not Cool Book\n",
      "Book 2: Book Title: Not Cool Book\n"
     ]
    }
   ],
   "source": [
    "// Homework Hack #2: Heap vs Stack Storage Demo\n",
    "\n",
    "public class HeapVsStack {\n",
    "    public static void main(String[] args) {\n",
    "        // 1. Create a primitive variable (int pages)\n",
    "        int pages = 100;\n",
    "        // 2. Create another primitive variable that copies it\n",
    "        int copy = pages;\n",
    "        // 3. Create a Book object (Book b1 = new Book(\"Java Basics\");)\n",
    "        Book b1 = new Book(\"Cool Book\");\n",
    "        // 4. Create another Book reference (Book b2 = b1;)\n",
    "        Book b2 = b1;\n",
    "        // 5. Change the original primitive and the Book title\n",
    "        b1.title = \"Not Cool Book\";\n",
    "        // 6. Print both sets of values to compare behavior\n",
    "        System.out.println(\"Primitive pages: \" + pages);\n",
    "        System.out.println(\"Copied primitive pages: \" + copy);\n",
    "        System.out.println(\"Book 1: \" + b1);\n",
    "        System.out.println(\"Book 2: \" + b2);\n",
    "    }\n",
    "}\n",
    "\n",
    "class Book {\n",
    "    // 1. Declare variable: String title\n",
    "    String title;\n",
    "    // 2. Create a constructor to set the title\n",
    "    public Book(String title) {\n",
    "        this.title = title;\n",
    "    }\n",
    "    // 3. Create a toString() to show the title\n",
    "    public String toString() {\n",
    "        return \"Book Title: \" + title;\n",
    "    }\n",
    "}\n",
    "\n",
    "HeapVsStack.main(null);"
   ]
  }
 ],
 "metadata": {
  "kernelspec": {
   "display_name": "java (JJava/j!)",
   "language": "java",
   "name": "jbang-jjava"
  },
  "language_info": {
   "codemirror_mode": "java",
   "file_extension": ".jshell",
   "mimetype": "text/x-java-source",
   "name": "java",
   "pygments_lexer": "java",
   "version": "17.0.16+0"
  }
 },
 "nbformat": 4,
 "nbformat_minor": 5
}

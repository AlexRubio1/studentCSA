{
 "cells": [
  {
   "cell_type": "raw",
   "metadata": {},
   "source": [
    "---\n",
    "title: Homework for Application Program Interface (API) and Libraries\n",
    "comments: true\n",
    "layout: post\n",
    "description: homework\n",
    "author: Alex\n",
    "---"
   ]
  },
  {
   "cell_type": "markdown",
   "metadata": {},
   "source": [
    "---\n",
    "\n",
    "## 🍿 Popcorn Hack #1: Using Documentation (5 minutes)\n",
    "\n",
    "**Task:** Use the Math class and ArrayList class based on their documentation.\n",
    "\n",
    "Complete the following:\n",
    "1. Use `Math.pow()` to calculate 3^4\n",
    "2. Use `Math.sqrt()` to find square root of 64\n",
    "3. Create an ArrayList of Strings\n",
    "4. Add 3 colors to the ArrayList\n",
    "5. Print the ArrayList size"
   ]
  },
  {
   "cell_type": "code",
   "execution_count": 6,
   "metadata": {
    "vscode": {
     "languageId": "java"
    }
   },
   "outputs": [],
   "source": [
    "// Popcorn Hack #1: Complete this code\n",
    "\n",
    "import java.util.ArrayList;\n",
    "\n",
    "public class PopcornHack1 {\n",
    "    public static void main(String[] args) {\n",
    "        // TODO: Use Math.pow() to calculate 3^4\n",
    "        Math.pow(3, 4);\n",
    "        // TODO: Use Math.sqrt() to find square root of 64\n",
    "        Math.sqrt(64);\n",
    "        // TODO: Create ArrayList of Strings\n",
    "        ArrayList<String> colors = new ArrayList<>();\n",
    "        // TODO: Add 3 colors (\"red\", \"blue\", \"green\")\n",
    "        string.Add(\"red\");\n",
    "        string.Add(\"blue\");\n",
    "        string.Add(\"green\");\n",
    "        // TODO: Print the size\n",
    "        System.out.println(colors.size());\n",
    "    }\n",
    "}\n",
    "\n",
    "//PopcornHack1.main(null);"
   ]
  }
 ],
 "metadata": {
  "kernelspec": {
   "display_name": "java (JJava/j!)",
   "language": "java",
   "name": "jbang-jjava"
  },
  "language_info": {
   "codemirror_mode": "java",
   "file_extension": ".jshell",
   "mimetype": "text/x-java-source",
   "name": "Java",
   "pygments_lexer": "java",
   "version": "17.0.16+8"
  }
 },
 "nbformat": 4,
 "nbformat_minor": 2
}

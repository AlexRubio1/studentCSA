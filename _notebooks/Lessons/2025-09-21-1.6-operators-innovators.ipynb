{
 "cells": [
  {
   "cell_type": "raw",
   "metadata": {},
   "source": [
    "---\n",
    "title: Homework for Application Program Interface (API) and Libraries\n",
    "comments: true\n",
    "layout: post\n",
    "description: homework\n",
    "author: Alex\n",
    "---"
   ]
  },
  {
   "cell_type": "markdown",
   "metadata": {},
   "source": [
    "---\n",
    "\n",
    "## 🍿 Popcorn Hack #1: Using Documentation (5 minutes)\n",
    "\n",
    "**Task:** Use the Math class and ArrayList class based on their documentation.\n",
    "\n",
    "Complete the following:\n",
    "1. Use `Math.pow()` to calculate 3^4\n",
    "2. Use `Math.sqrt()` to find square root of 64\n",
    "3. Create an ArrayList of Strings\n",
    "4. Add 3 colors to the ArrayList\n",
    "5. Print the ArrayList size"
   ]
  },
  {
   "cell_type": "code",
   "execution_count": 6,
   "metadata": {
    "vscode": {
     "languageId": "java"
    }
   },
   "outputs": [],
   "source": [
    "// Popcorn Hack #1: Complete this code\n",
    "\n",
    "import java.util.ArrayList;\n",
    "\n",
    "public class PopcornHack1 {\n",
    "    public static void main(String[] args) {\n",
    "        // TODO: Use Math.pow() to calculate 3^4\n",
    "        Math.pow(3, 4);\n",
    "        // TODO: Use Math.sqrt() to find square root of 64\n",
    "        Math.sqrt(64);\n",
    "        // TODO: Create ArrayList of Strings\n",
    "        ArrayList<String> colors = new ArrayList<>();\n",
    "        // TODO: Add 3 colors (\"red\", \"blue\", \"green\")\n",
    "        string.Add(\"red\");\n",
    "        string.Add(\"blue\");\n",
    "        string.Add(\"green\");\n",
    "        // TODO: Print the size\n",
    "        System.out.println(colors.size());\n",
    "    }\n",
    "}\n",
    "\n",
    "//PopcornHack1.main(null);"
   ]
  },
  {
   "cell_type": "markdown",
   "metadata": {},
   "source": [
    "---\n",
    "\n",
    "## 🍿 Popcorn Hack #2: Attributes and Behaviors (5 minutes)\n",
    "\n",
    "**Task:** Create a `Book` class with attributes and behaviors.\n",
    "\n",
    "**Requirements:**\n",
    "\n",
    "**Attributes (3):**\n",
    "- `title` (String)\n",
    "- `author` (String)  \n",
    "- `pages` (int)\n",
    "\n",
    "**Behaviors (3 methods):**\n",
    "1. Constructor to set all attributes\n",
    "2. `displayInfo()` - print all book info\n",
    "3. `isLong()` - return true if pages > 300\n",
    "\n",
    "**Test:** Create a Book object and call all methods."
   ]
  },
  {
   "cell_type": "code",
   "execution_count": 10,
   "metadata": {
    "vscode": {
     "languageId": "java"
    }
   },
   "outputs": [
    {
     "ename": "CompilationException",
     "evalue": "",
     "output_type": "error",
     "traceback": [
      "\u001b[1m\u001b[30m|   \u001b[1m\u001b[30m    \u001b[0m\u001b[1m\u001b[30m\u001b[41m\u001b[0m\u001b[1m\u001b[30mconstructor(String t, String a, int p) {\u001b[0m",
      "\u001b[1m\u001b[31minvalid method declaration; return type required\u001b[0m",
      "",
      "\u001b[1m\u001b[30m|   \u001b[1m\u001b[30m    \u001b[0m\u001b[1m\u001b[30m\u001b[41m\u001b[0m\u001b[1m\u001b[30mdisplayInfo() {\u001b[0m",
      "\u001b[1m\u001b[31minvalid method declaration; return type required\u001b[0m",
      "",
      "\u001b[1m\u001b[30m|   \u001b[1m\u001b[30m    \u001b[0m\u001b[1m\u001b[30m\u001b[41m\u001b[0m\u001b[1m\u001b[30misLong() {\u001b[0m",
      "\u001b[1m\u001b[31minvalid method declaration; return type required\u001b[0m",
      ""
     ]
    }
   ],
   "source": [
    "// Popcorn Hack #2: Complete the Book class\n",
    "\n",
    "public class Book {\n",
    "    // TODO: Add 3 attributes (title, author, pages)\n",
    "    private String title;\n",
    "    private String author;\n",
    "    private int pages;\n",
    "    // TODO: Add constructor\n",
    "    constructor(String t, String a, int p) {\n",
    "        title = t;\n",
    "        author = a;\n",
    "        pages = p;\n",
    "    }\n",
    "    // TODO: Add displayInfo() method\n",
    "    displayInfo() {\n",
    "        System.out.println(\"Title: \" + title + \", Author: \" + author + \", Pages: \" + pages);\n",
    "    }\n",
    "    // TODO: Add isLong() method (returns true if pages > 300)\n",
    "    isLong() {\n",
    "        return pages > 300;\n",
    "    }\n",
    "}\n",
    "\n",
    "// TODO: Create a Book object and test all methods\n",
    "Book myBook = new Book(\"Java Basics\", \"John Doe\", 350);\n",
    "// Example: Book myBook = new Book(\"Java Basics\", \"John Doe\", 350);\n"
   ]
  }
 ],
 "metadata": {
  "kernelspec": {
   "display_name": "java (JJava/j!)",
   "language": "java",
   "name": "jbang-jjava"
  },
  "language_info": {
   "codemirror_mode": "java",
   "file_extension": ".jshell",
   "mimetype": "text/x-java-source",
   "name": "Java",
   "pygments_lexer": "java",
   "version": "17.0.16+8"
  }
 },
 "nbformat": 4,
 "nbformat_minor": 2
}

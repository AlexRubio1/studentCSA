{
 "cells": [
  {
   "cell_type": "raw",
   "metadata": {},
   "source": [
    "---\n",
    "title: Homework for Algorithms, Programming, and Compilers\n",
    "comments: true\n",
    "layout: post\n",
    "description: Homework\n",
    "author: Alex\n",
    "---"
   ]
  },
  {
   "cell_type": "markdown",
   "metadata": {},
   "source": [
    "## Hacks 1"
   ]
  },
  {
   "cell_type": "code",
   "execution_count": 3,
   "metadata": {},
   "outputs": [
    {
     "name": "stdout",
     "output_type": "stream",
     "text": [
      "1. Gather ingredients\n",
      "2. Mix water, sugar, and yeast\n",
      "3. Add flour, salt, and oil\n",
      "4. Knead the dough\n",
      "5. Let the dough rise\n",
      "6. Make the sauce with tomatoes and spices\n",
      "7. Roll out the dough and add sauce\n",
      "8. Put cheese and toppings on the pizza\n",
      "9. Bake in the oven\n",
      "10. Slice and serve\n"
     ]
    }
   ],
   "source": [
    "# Algorithm: Making a Pizza from Scratch\n",
    "\n",
    "def make_pizza():\n",
    "    print(\"1. Gather ingredients\")\n",
    "    print(\"2. Mix water, sugar, and yeast\")\n",
    "    print(\"3. Add flour, salt, and oil\")\n",
    "    print(\"4. Knead the dough\")\n",
    "    print(\"5. Let the dough rise\")\n",
    "    print(\"6. Make the sauce with tomatoes and spices\")\n",
    "    print(\"7. Roll out the dough and add sauce\")\n",
    "    print(\"8. Put cheese and toppings on the pizza\")\n",
    "    print(\"9. Bake in the oven\")\n",
    "    print(\"10. Slice and serve\")\n",
    "\n",
    "make_pizza()"
   ]
  },
  {
   "cell_type": "markdown",
   "metadata": {},
   "source": [
    "## Homework Hacks\n",
    "\n",
    "### Hack 1: Create Your Own Algorithm\n",
    "Write a detailed algorithm for one of these activities:\n",
    "- Getting ready for a basketball game\n",
    "- Making a pizza from scratch  \n",
    "- Setting up a new phone\n",
    "## HACK 2"
   ]
  },
  {
   "cell_type": "markdown",
   "metadata": {},
   "source": [
    "### Hack 2: Identify the Bug\n",
    "\n",
    "This algorithm has steps in the wrong order. Fix it:\n",
    "\n",
    "```\n",
    "Algorithm: Send an Email\n",
    "1. Click \"Send\"\n",
    "2. Open email application\n",
    "3. Type the message\n",
    "4. Log into your account\n",
    "5. Enter recipient's email address\n",
    "6. Write subject line\n",
    "```\n",
    "\n",
    "### Example Response:\n",
    "\n",
    "**Corrected Algorithm: Send an Email**\n",
    "1. [Your corrected step 1]\n",
    "2. [Your corrected step 2]\n",
    "3. [Your corrected step 3]\n",
    "4. [Continue...]\n"
   ]
  },
  {
   "cell_type": "code",
   "execution_count": 4,
   "metadata": {},
   "outputs": [
    {
     "name": "stdout",
     "output_type": "stream",
     "text": [
      "1. Open the email application or website\n",
      "2. Log into your account\n",
      "3. Click 'Compose' or 'New Email'\n",
      "4. Enter the recipient's email address\n",
      "5. Write the subject line\n",
      "6. Type the message body\n",
      "7. Attach any files if needed\n",
      "8. Review the email for errors\n",
      "9. Click 'Send'\n"
     ]
    }
   ],
   "source": [
    "# Algorithm: Send an Email\n",
    "\n",
    "def send_email():\n",
    "    print(\"1. Open the email application or website\")\n",
    "    print(\"2. Log into your account\")\n",
    "    print(\"3. Click 'Compose' or 'New Email'\")\n",
    "    print(\"4. Enter the recipient's email address\")\n",
    "    print(\"5. Write the subject line\")\n",
    "    print(\"6. Type the message body\")\n",
    "    print(\"7. Attach any files if needed\")\n",
    "    print(\"8. Review the email for errors\")\n",
    "    print(\"9. Click 'Send'\")\n",
    "\n",
    "# Run the algorithm\n",
    "send_email()"
   ]
  },
  {
   "cell_type": "markdown",
   "metadata": {},
   "source": [
    "### Hack 3: Code the Algorithm\n",
    "\n",
    "Convert this algorithm into working Python code:\n",
    "\n",
    "```\n",
    "Algorithm: Grade Calculator\n",
    "1. Get three test scores from user\n",
    "2. Add them together\n",
    "3. Divide by 3 to get average\n",
    "4. If average >= 90, grade is A\n",
    "5. If average >= 80, grade is B\n",
    "6. If average >= 70, grade is C\n",
    "7. If average >= 60, grade is D\n",
    "8. Otherwise, grade is F\n",
    "9. Display the grade\n",
    "```\n",
    "\n"
   ]
  },
  {
   "cell_type": "code",
   "execution_count": 1,
   "metadata": {},
   "outputs": [
    {
     "name": "stdout",
     "output_type": "stream",
     "text": [
      "Average: 73.33, Grade: C\n"
     ]
    }
   ],
   "source": [
    "score1 = float(input(\"Enter first test score: \"))\n",
    "score2 = float(input(\"Enter second test score: \"))\n",
    "score3 = float(input(\"Enter third test score: \"))\n",
    "\n",
    "avg = (score1 + score2 + score3) / 3\n",
    "\n",
    "if avg >= 90:\n",
    "    grade = \"A\"\n",
    "elif avg >= 80:\n",
    "    grade = \"B\"\n",
    "elif avg >= 70:\n",
    "    grade = \"C\"\n",
    "elif avg >= 60:\n",
    "    grade = \"D\"\n",
    "else:\n",
    "    grade = \"F\"\n",
    "\n",
    "print(f\"Average: {avg:.2f}, Grade: {grade}\")"
   ]
  }
 ],
 "metadata": {
  "kernelspec": {
   "display_name": "venv",
   "language": "python",
   "name": "python3"
  },
  "language_info": {
   "codemirror_mode": {
    "name": "ipython",
    "version": 3
   },
   "file_extension": ".py",
   "mimetype": "text/x-python",
   "name": "python",
   "nbconvert_exporter": "python",
   "pygments_lexer": "ipython3",
   "version": "3.13.1"
  }
 },
 "nbformat": 4,
 "nbformat_minor": 2
}
